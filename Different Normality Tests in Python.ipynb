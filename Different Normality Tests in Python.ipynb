{
 "cells": [
  {
   "cell_type": "code",
   "execution_count": 2,
   "metadata": {},
   "outputs": [],
   "source": [
    "#import libraries\n",
    "\n",
    "from sklearn.linear_model import LinearRegression\n",
    "from sklearn.metrics import r2_score\n",
    "from sklearn.model_selection import train_test_split\n",
    "from sklearn.preprocessing import (StandardScaler, \n",
    "                                   PolynomialFeatures)\n",
    "import pylab\n",
    "import seaborn as sns\n",
    "#from scipy.stats.mstats import normaltest\n",
    "import scipy.stats as stats\n",
    "import warnings\n",
    "warnings.filterwarnings(\"ignore\")\n",
    "\n",
    "from pandas import read_csv\n",
    "import matplotlib.pyplot as plt\n",
    "import numpy as np\n",
    "from scipy.special import inv_boxcox\n",
    "url = \"https://raw.githubusercontent.com/rashida048/Datasets/master/cars.csv\""
   ]
  },
  {
   "cell_type": "code",
   "execution_count": 3,
   "metadata": {},
   "outputs": [
    {
     "data": {
      "text/html": [
       "<div>\n",
       "<style scoped>\n",
       "    .dataframe tbody tr th:only-of-type {\n",
       "        vertical-align: middle;\n",
       "    }\n",
       "\n",
       "    .dataframe tbody tr th {\n",
       "        vertical-align: top;\n",
       "    }\n",
       "\n",
       "    .dataframe thead th {\n",
       "        text-align: right;\n",
       "    }\n",
       "</style>\n",
       "<table border=\"1\" class=\"dataframe\">\n",
       "  <thead>\n",
       "    <tr style=\"text-align: right;\">\n",
       "      <th></th>\n",
       "      <th>YEAR</th>\n",
       "      <th>Make</th>\n",
       "      <th>Model</th>\n",
       "      <th>Size</th>\n",
       "      <th>(kW)</th>\n",
       "      <th>Unnamed: 5</th>\n",
       "      <th>TYPE</th>\n",
       "      <th>CITY (kWh/100 km)</th>\n",
       "      <th>HWY (kWh/100 km)</th>\n",
       "      <th>COMB (kWh/100 km)</th>\n",
       "      <th>CITY (Le/100 km)</th>\n",
       "      <th>HWY (Le/100 km)</th>\n",
       "      <th>COMB (Le/100 km)</th>\n",
       "      <th>(g/km)</th>\n",
       "      <th>RATING</th>\n",
       "      <th>(km)</th>\n",
       "      <th>TIME (h)</th>\n",
       "    </tr>\n",
       "  </thead>\n",
       "  <tbody>\n",
       "    <tr>\n",
       "      <th>0</th>\n",
       "      <td>2012</td>\n",
       "      <td>MITSUBISHI</td>\n",
       "      <td>i-MiEV</td>\n",
       "      <td>SUBCOMPACT</td>\n",
       "      <td>49</td>\n",
       "      <td>A1</td>\n",
       "      <td>B</td>\n",
       "      <td>16.9</td>\n",
       "      <td>21.4</td>\n",
       "      <td>18.7</td>\n",
       "      <td>1.9</td>\n",
       "      <td>2.4</td>\n",
       "      <td>2.1</td>\n",
       "      <td>0</td>\n",
       "      <td>NaN</td>\n",
       "      <td>100</td>\n",
       "      <td>7</td>\n",
       "    </tr>\n",
       "    <tr>\n",
       "      <th>1</th>\n",
       "      <td>2012</td>\n",
       "      <td>NISSAN</td>\n",
       "      <td>LEAF</td>\n",
       "      <td>MID-SIZE</td>\n",
       "      <td>80</td>\n",
       "      <td>A1</td>\n",
       "      <td>B</td>\n",
       "      <td>19.3</td>\n",
       "      <td>23.0</td>\n",
       "      <td>21.1</td>\n",
       "      <td>2.2</td>\n",
       "      <td>2.6</td>\n",
       "      <td>2.4</td>\n",
       "      <td>0</td>\n",
       "      <td>NaN</td>\n",
       "      <td>117</td>\n",
       "      <td>7</td>\n",
       "    </tr>\n",
       "    <tr>\n",
       "      <th>2</th>\n",
       "      <td>2013</td>\n",
       "      <td>FORD</td>\n",
       "      <td>FOCUS ELECTRIC</td>\n",
       "      <td>COMPACT</td>\n",
       "      <td>107</td>\n",
       "      <td>A1</td>\n",
       "      <td>B</td>\n",
       "      <td>19.0</td>\n",
       "      <td>21.1</td>\n",
       "      <td>20.0</td>\n",
       "      <td>2.1</td>\n",
       "      <td>2.4</td>\n",
       "      <td>2.2</td>\n",
       "      <td>0</td>\n",
       "      <td>NaN</td>\n",
       "      <td>122</td>\n",
       "      <td>4</td>\n",
       "    </tr>\n",
       "    <tr>\n",
       "      <th>3</th>\n",
       "      <td>2013</td>\n",
       "      <td>MITSUBISHI</td>\n",
       "      <td>i-MiEV</td>\n",
       "      <td>SUBCOMPACT</td>\n",
       "      <td>49</td>\n",
       "      <td>A1</td>\n",
       "      <td>B</td>\n",
       "      <td>16.9</td>\n",
       "      <td>21.4</td>\n",
       "      <td>18.7</td>\n",
       "      <td>1.9</td>\n",
       "      <td>2.4</td>\n",
       "      <td>2.1</td>\n",
       "      <td>0</td>\n",
       "      <td>NaN</td>\n",
       "      <td>100</td>\n",
       "      <td>7</td>\n",
       "    </tr>\n",
       "    <tr>\n",
       "      <th>4</th>\n",
       "      <td>2013</td>\n",
       "      <td>NISSAN</td>\n",
       "      <td>LEAF</td>\n",
       "      <td>MID-SIZE</td>\n",
       "      <td>80</td>\n",
       "      <td>A1</td>\n",
       "      <td>B</td>\n",
       "      <td>19.3</td>\n",
       "      <td>23.0</td>\n",
       "      <td>21.1</td>\n",
       "      <td>2.2</td>\n",
       "      <td>2.6</td>\n",
       "      <td>2.4</td>\n",
       "      <td>0</td>\n",
       "      <td>NaN</td>\n",
       "      <td>117</td>\n",
       "      <td>7</td>\n",
       "    </tr>\n",
       "  </tbody>\n",
       "</table>\n",
       "</div>"
      ],
      "text/plain": [
       "   YEAR        Make           Model        Size  (kW) Unnamed: 5 TYPE  \\\n",
       "0  2012  MITSUBISHI          i-MiEV  SUBCOMPACT    49         A1    B   \n",
       "1  2012      NISSAN            LEAF    MID-SIZE    80         A1    B   \n",
       "2  2013        FORD  FOCUS ELECTRIC     COMPACT   107         A1    B   \n",
       "3  2013  MITSUBISHI          i-MiEV  SUBCOMPACT    49         A1    B   \n",
       "4  2013      NISSAN            LEAF    MID-SIZE    80         A1    B   \n",
       "\n",
       "   CITY (kWh/100 km)  HWY (kWh/100 km)  COMB (kWh/100 km)  CITY (Le/100 km)  \\\n",
       "0               16.9              21.4               18.7               1.9   \n",
       "1               19.3              23.0               21.1               2.2   \n",
       "2               19.0              21.1               20.0               2.1   \n",
       "3               16.9              21.4               18.7               1.9   \n",
       "4               19.3              23.0               21.1               2.2   \n",
       "\n",
       "   HWY (Le/100 km)  COMB (Le/100 km)  (g/km)  RATING  (km)  TIME (h)  \n",
       "0              2.4               2.1       0     NaN   100         7  \n",
       "1              2.6               2.4       0     NaN   117         7  \n",
       "2              2.4               2.2       0     NaN   122         4  \n",
       "3              2.4               2.1       0     NaN   100         7  \n",
       "4              2.6               2.4       0     NaN   117         7  "
      ]
     },
     "execution_count": 3,
     "metadata": {},
     "output_type": "execute_result"
    }
   ],
   "source": [
    "data_raw = read_csv(url)\n",
    "y_col = 'COMB (kWh/100 km)'\n",
    "x_col = 'Size (kW)'\n",
    "data_raw.head()"
   ]
  },
  {
   "cell_type": "code",
   "execution_count": 35,
   "metadata": {},
   "outputs": [],
   "source": [
    "#drop columns that are not important to us\n",
    "columns = ['Unnamed: 5', 'TYPE', '(g/km)', 'RATING', 'TIME (h)']\n",
    "data = data_raw.drop(columns, axis = 1)"
   ]
  },
  {
   "cell_type": "code",
   "execution_count": 5,
   "metadata": {},
   "outputs": [
    {
     "name": "stdout",
     "output_type": "stream",
     "text": [
      "NormaltestResult\n",
      "YEAR ---> NormaltestResult(statistic=6.572959165352991, pvalue=0.03738522961390805)\n",
      "(kW) ---> NormaltestResult(statistic=7.321037190821667, pvalue=0.025719171423019174)\n",
      "CITY (kWh/100 km) ---> NormaltestResult(statistic=70.14515644771824, pvalue=5.863714426994686e-16)\n",
      "HWY (kWh/100 km) ---> NormaltestResult(statistic=3.277438484649402, pvalue=0.19422864288348685)\n",
      "COMB (kWh/100 km) ---> NormaltestResult(statistic=6.240078947284884, pvalue=0.044155425409817116)\n",
      "CITY (Le/100 km) ---> NormaltestResult(statistic=60.99718630445533, pvalue=5.683675677110317e-14)\n",
      "HWY (Le/100 km) ---> NormaltestResult(statistic=3.1165271538283656, pvalue=0.2105012733068826)\n",
      "COMB (Le/100 km) ---> NormaltestResult(statistic=14.090361944759387, pvalue=0.000871599113159755)\n",
      "(km) ---> NormaltestResult(statistic=188.30657011037007, pvalue=1.2875018076706825e-41)\n",
      "Skewness\n",
      "YEAR                -0.572928\n",
      "(kW)                 0.939392\n",
      "CITY (kWh/100 km)    0.201837\n",
      "HWY (kWh/100 km)    -0.493752\n",
      "COMB (kWh/100 km)    0.145207\n",
      "CITY (Le/100 km)     0.249986\n",
      "HWY (Le/100 km)     -0.455123\n",
      "COMB (Le/100 km)     0.061787\n",
      "(km)                 0.394793\n",
      "dtype: float64\n"
     ]
    }
   ],
   "source": [
    "#get normal test Result which brings us statistic and pvalue\n",
    "#normaltest is a test that differes from an normal distribution\n",
    "print('NormaltestResult')\n",
    "for i in data.columns:\n",
    "    if data[i].dtype == 'int64' or data[i].dtype == 'float64':\n",
    "        print (str(i) + ' ---> ' + str(stats.normaltest(data[i])))\n",
    "#print skewness for each columns\n",
    "print('Skewness')        \n",
    "print (data.skew())"
   ]
  },
  {
   "cell_type": "markdown",
   "metadata": {},
   "source": [
    "# Different Normality tests on the data.\n",
    "I will present different normality tests on two columns that have pvalue > 0.05 which is a sign of gaussian and two columns that have really low pvalue so we will see the difference. \n",
    "\n",
    "## Different Graphs"
   ]
  },
  {
   "cell_type": "code",
   "execution_count": 6,
   "metadata": {},
   "outputs": [
    {
     "data": {
      "image/png": "[encoded data removed]",
      "text/plain": [
       "<Figure size 432x288 with 4 Axes>"
      ]
     },
     "metadata": {
      "needs_background": "light"
     },
     "output_type": "display_data"
    }
   ],
   "source": [
    "y_1 = 'HWY (Le/100 km)' #pvalue  -> 0.2105012733068826 \n",
    "y_2 = 'HWY (kWh/100 km)' #pvalue -> 0.19422864288348685\n",
    "y_3 = 'CITY (kWh/100 km)' #pvalue -> 5.863714426994686e-16\n",
    "y_4 = '(km)' #pvalue -> 1.2875018076706825e-41\n",
    "#y_1\n",
    "measurments = data[y_1]\n",
    "fig, axs = plt.subplots(2,2)\n",
    "stats.probplot(measurments, dist='norm', plot=axs[0,0])\n",
    "axs[0,0].set_title(str(y_1))\n",
    "\n",
    "\n",
    "#y_2\n",
    "measurments_2 = data[y_2]\n",
    "stats.probplot(measurments_2, dist='norm', plot=axs[0,1])\n",
    "axs[0,1].set_title(str(y_2))\n",
    "\n",
    "\n",
    "#y_3\n",
    "measurments_3 = data[y_3]\n",
    "stats.probplot(measurments_3, dist='norm', plot=axs[1,0])\n",
    "axs[1,0].set_title(str(y_3))\n",
    "\n",
    "\n",
    "#y_4\n",
    "measurments_4 = data[y_4]\n",
    "stats.probplot(measurments_4, dist='norm', plot=axs[1,1])\n",
    "axs[1,1].set_title(str(y_4))\n",
    "plt.tight_layout()"
   ]
  },
  {
   "cell_type": "markdown",
   "metadata": {},
   "source": [
    "## Box plots"
   ]
  },
  {
   "cell_type": "code",
   "execution_count": 7,
   "metadata": {},
   "outputs": [
    {
     "data": {
      "text/plain": [
       "<AxesSubplot:xlabel='(km)'>"
      ]
     },
     "execution_count": 7,
     "metadata": {},
     "output_type": "execute_result"
    },
    {
     "data": {
      "image/png": "[encoded data removed]",
      "text/plain": [
       "<Figure size 432x288 with 2 Axes>"
      ]
     },
     "metadata": {
      "needs_background": "light"
     },
     "output_type": "display_data"
    },
    {
     "data": {
      "image/png": "[encoded data removed]",
      "text/plain": [
       "<Figure size 432x288 with 2 Axes>"
      ]
     },
     "metadata": {
      "needs_background": "light"
     },
     "output_type": "display_data"
    }
   ],
   "source": [
    "fig, axs = plt.subplots(1,2)\n",
    "sns.boxplot(x = measurments, ax = axs[0])\n",
    "sns.boxplot(x = measurments_2, ax = axs[1])\n",
    "\n",
    "fig, axs = plt.subplots(1,2)\n",
    "sns.boxplot(x = measurments_3, ax = axs[0])\n",
    "sns.boxplot(x = measurments_4, ax = axs[1])"
   ]
  },
  {
   "cell_type": "markdown",
   "metadata": {},
   "source": [
    "## Histograms "
   ]
  },
  {
   "cell_type": "code",
   "execution_count": 8,
   "metadata": {},
   "outputs": [
    {
     "data": {
      "image/png": "[encoded data removed]",
      "text/plain": [
       "<Figure size 432x288 with 4 Axes>"
      ]
     },
     "metadata": {
      "needs_background": "light"
     },
     "output_type": "display_data"
    }
   ],
   "source": [
    "f, axs = plt.subplots(2,2)\n",
    "\n",
    "sns.distplot(measurments, ax=axs[0,0])\n",
    "axs[0,0].set_title(y_1)\n",
    "sns.distplot(measurments_2, ax=axs[0,1])\n",
    "axs[0,1].set_title(y_2)\n",
    "sns.distplot(measurments_3, ax=axs[1,0])\n",
    "axs[1,0].set_title(y_3)\n",
    "sns.distplot(measurments_4, ax=axs[1,1])\n",
    "axs[1,1].set_title(y_4)\n",
    "plt.tight_layout()"
   ]
  },
  {
   "cell_type": "markdown",
   "metadata": {},
   "source": [
    "# Different statistical test for Normality\n",
    "\n",
    "when doing Normality tests I recommed doing every test, to see the difference and learn somthing from your data!"
   ]
  },
  {
   "cell_type": "markdown",
   "metadata": {},
   "source": [
    " ## Kolmogorov-Smirnov test for Normality"
   ]
  },
  {
   "cell_type": "code",
   "execution_count": 9,
   "metadata": {},
   "outputs": [
    {
     "name": "stdout",
     "output_type": "stream",
     "text": [
      "HWY (Le/100 km)\n",
      "statistic = 0.98, p = 0.0\n",
      "Not Gaussian\n",
      "HWY (kWh/100 km)\n",
      "statistic = 1.00, p = 0.0\n",
      "Not Gaussian\n",
      "CITY (kWh/100 km)\n",
      "statistic = 1.00, p = 0.0\n",
      "Not Gaussian\n",
      "(km)\n",
      "statistic = 1.00, p = 0.0\n",
      "Not Gaussian\n"
     ]
    }
   ],
   "source": [
    "l = [measurments,measurments_2, measurments_3, measurments_4]\n",
    "names = [y_1, y_2, y_3, y_4]\n",
    "c = 0\n",
    "for i in l: \n",
    "    statistic, pvalue = stats.kstest(i, 'norm')\n",
    "    print(names[c])\n",
    "    print('statistic = %.2f, p = %.1f' %(statistic, pvalue))\n",
    "    if pvalue > 0.05:\n",
    "        print ('Gaussian')\n",
    "    else:\n",
    "        print('Not Gaussian')\n",
    "    c += 1"
   ]
  },
  {
   "cell_type": "markdown",
   "metadata": {},
   "source": [
    "## NormalTest (D'agostino's)"
   ]
  },
  {
   "cell_type": "code",
   "execution_count": 10,
   "metadata": {},
   "outputs": [
    {
     "name": "stdout",
     "output_type": "stream",
     "text": [
      "HWY (Le/100 km)\n",
      "statistic = 3.12, p = 0.21050\n",
      "Gaussian\n",
      "HWY (kWh/100 km)\n",
      "statistic = 3.28, p = 0.19423\n",
      "Gaussian\n",
      "CITY (kWh/100 km)\n",
      "statistic = 70.15, p = 0.00000\n",
      "Not Gaussian\n",
      "(km)\n",
      "statistic = 188.31, p = 0.00000\n",
      "Not Gaussian\n"
     ]
    }
   ],
   "source": [
    "c = 0\n",
    "for i in l:\n",
    "    statistic, pvalue = stats.normaltest(i)\n",
    "    print(names[c])\n",
    "    print('statistic = %.2f, p = %.5f' %(statistic, pvalue))\n",
    "    if pvalue > 0.05:\n",
    "        print ('Gaussian')\n",
    "    else:\n",
    "        print('Not Gaussian')\n",
    "    c += 1"
   ]
  },
  {
   "cell_type": "markdown",
   "metadata": {},
   "source": [
    "## Shapiro-Wilk Test\n",
    "\n",
    "This test is the most popular since it has a strong variety. "
   ]
  },
  {
   "cell_type": "code",
   "execution_count": 17,
   "metadata": {},
   "outputs": [
    {
     "name": "stdout",
     "output_type": "stream",
     "text": [
      "HWY (Le/100 km)\n",
      "statistic = 0.90, p = 0.000443\n",
      "Not Gaussian\n",
      "HWY (kWh/100 km)\n",
      "statistic = 0.93, p = 0.005350\n",
      "Not Gaussian\n",
      "CITY (kWh/100 km)\n",
      "statistic = 0.87, p = 0.000029\n",
      "Not Gaussian\n",
      "(km)\n",
      "statistic = 0.77, p = 0.000000\n",
      "Not Gaussian\n"
     ]
    }
   ],
   "source": [
    "c = 0\n",
    "for i in l:\n",
    "    statistic, pvalue = stats.shapiro(i)\n",
    "    print(names[c])\n",
    "    print('statistic = %.2f, p = %f' %(statistic, pvalue))\n",
    "    if pvalue > 0.05:\n",
    "        print ('Gaussian')\n",
    "    else:\n",
    "        print('Not Gaussian')\n",
    "    c += 1"
   ]
  },
  {
   "cell_type": "markdown",
   "metadata": {},
   "source": [
    "## Chi-Square Normality Test"
   ]
  },
  {
   "cell_type": "code",
   "execution_count": 38,
   "metadata": {},
   "outputs": [
    {
     "name": "stdout",
     "output_type": "stream",
     "text": [
      "HWY (Le/100 km)\n",
      "statistic = 0.44, p = 1.00000\n",
      "Gaussian\n",
      "HWY (kWh/100 km)\n",
      "statistic = 3.73, p = 1.00000\n",
      "Gaussian\n",
      "CITY (kWh/100 km)\n",
      "statistic = 23.84, p = 0.99972\n",
      "Gaussian\n",
      "(km)\n",
      "statistic = 4348.68, p = 0.00000\n",
      "Not Gaussian\n"
     ]
    }
   ],
   "source": [
    "c = 0\n",
    "for i in l:\n",
    "    statistic, pvalue = stats.chisquare(i)\n",
    "    print(names[c])\n",
    "    print('statistic = %.2f, p = %.5f' %(statistic, pvalue))\n",
    "    if pvalue > 0.05:\n",
    "        print ('Gaussian')\n",
    "    else:\n",
    "        print('Not Gaussian')\n",
    "    c += 1"
   ]
  },
  {
   "cell_type": "markdown",
   "metadata": {},
   "source": [
    "## Lilliefors Test for Normality"
   ]
  },
  {
   "cell_type": "code",
   "execution_count": 13,
   "metadata": {},
   "outputs": [
    {
     "name": "stdout",
     "output_type": "stream",
     "text": [
      "HWY (Le/100 km)\n",
      "statistic = 0.17, p = 0.00100\n",
      "Not Gaussian\n",
      "HWY (kWh/100 km)\n",
      "statistic = 0.15, p = 0.00413\n",
      "Not Gaussian\n",
      "CITY (kWh/100 km)\n",
      "statistic = 0.22, p = 0.00100\n",
      "Not Gaussian\n",
      "(km)\n",
      "statistic = 0.29, p = 0.00100\n",
      "Not Gaussian\n"
     ]
    }
   ],
   "source": [
    "from statsmodels.stats.diagnostic import lilliefors\n",
    "c = 0\n",
    "for i in l:\n",
    "    statistic, pvalue = lilliefors(i)\n",
    "    print(names[c])\n",
    "    print('statistic = %.2f, p = %.5f' %(statistic, pvalue))\n",
    "    if pvalue > 0.05:\n",
    "        print ('Gaussian')\n",
    "    else:\n",
    "        print('Not Gaussian')\n",
    "    c += 1"
   ]
  },
  {
   "cell_type": "markdown",
   "metadata": {},
   "source": [
    "## Jarque–Bera test for Normality "
   ]
  },
  {
   "cell_type": "code",
   "execution_count": 39,
   "metadata": {},
   "outputs": [
    {
     "name": "stdout",
     "output_type": "stream",
     "text": [
      "HWY (Le/100 km)\n",
      "statistic = 2.66, p = 0.26389\n",
      "Gaussian\n",
      "HWY (kWh/100 km)\n",
      "statistic = 2.89, p = 0.23546\n",
      "Gaussian\n",
      "CITY (kWh/100 km)\n",
      "statistic = 5.78, p = 0.05544\n",
      "Gaussian\n",
      "(km)\n",
      "statistic = 7.69, p = 0.02134\n",
      "Not Gaussian\n"
     ]
    }
   ],
   "source": [
    "c = 0\n",
    "for i in l:\n",
    "    statistic, pvalue = stats.jarque_bera(i)\n",
    "    print(names[c])\n",
    "    print('statistic = %.2f, p = %.5f' %(statistic, pvalue))\n",
    "    if pvalue > 0.05:\n",
    "        print ('Gaussian')\n",
    "    else:\n",
    "        print('Not Gaussian')\n",
    "    c += 1"
   ]
  },
  {
   "cell_type": "markdown",
   "metadata": {},
   "source": [
    "# Conclusion\n",
    "\n",
    "As we see we get very different results, which is normal because of different procedures in each method. With simple data I would still gor for the D'agustino or Shapiro test which is widely used. "
   ]
  },
  {
   "cell_type": "code",
   "execution_count": null,
   "metadata": {},
   "outputs": [],
   "source": []
  }
 ],
 "metadata": {
  "kernelspec": {
   "display_name": "Python 3",
   "language": "python",
   "name": "python3"
  },
  "language_info": {
   "codemirror_mode": {
    "name": "ipython",
    "version": 3
   },
   "file_extension": ".py",
   "mimetype": "text/x-python",
   "name": "python",
   "nbconvert_exporter": "python",
   "pygments_lexer": "ipython3",
   "version": "3.8.5"
  }
 },
 "nbformat": 4,
 "nbformat_minor": 2
}
